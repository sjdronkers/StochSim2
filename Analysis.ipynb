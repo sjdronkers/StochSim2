{
 "cells": [
  {
   "cell_type": "markdown",
   "metadata": {},
   "source": [
    "# Stochastic Simulation Assignment 2\n",
    "- Dennis Curti (14526263)\n",
    "- Sjoerd Dronkers (13420607)"
   ]
  },
  {
   "cell_type": "code",
   "execution_count": 1,
   "metadata": {},
   "outputs": [],
   "source": [
    "import matplotlib.pyplot as plt\n",
    "import numpy as np\n",
    "import simpy as sim\n",
    "import scipy.stats as sp"
   ]
  },
  {
   "cell_type": "markdown",
   "metadata": {},
   "source": [
    "## General Functions"
   ]
  },
  {
   "cell_type": "code",
   "execution_count": 118,
   "metadata": {},
   "outputs": [],
   "source": [
    "def customer(env, servers, name, service_rate):\n",
    "    \"\"\"\n",
    "    Function to act as a customer.\n",
    "    \"\"\"\n",
    "\n",
    "    arrival = env.now\n",
    "\n",
    "    with servers.server.request() as request:\n",
    "        yield request\n",
    "\n",
    "        # Process the customer through the server.\n",
    "        yield env.process(servers.processing(service_rate))\n",
    "        leave_time = env.now\n",
    "\n",
    "        # Store waiting time spent in the queue.\n",
    "        servers.waiting_times.append(leave_time - arrival - servers.service_times[-1])"
   ]
  },
  {
   "cell_type": "code",
   "execution_count": 156,
   "metadata": {},
   "outputs": [],
   "source": [
    "def setup(env, servers, n, no_customers, service_time, arrival_rate):\n",
    "    \"\"\"\n",
    "    Main function to run the system.\n",
    "    \"\"\"\n",
    "\n",
    "    # Go through the number of customers to be served.\n",
    "    for i in range(no_customers):\n",
    "        env.process(customer(env, servers, f'Person {i}', service_time))\n",
    "        yield env.timeout(np.random.exponential(arrival_rate))"
   ]
  },
  {
   "cell_type": "markdown",
   "metadata": {},
   "source": [
    "## Question 2"
   ]
  },
  {
   "cell_type": "code",
   "execution_count": 157,
   "metadata": {},
   "outputs": [],
   "source": [
    "class Servers(object):\n",
    "    \"\"\"\n",
    "    Class to simulate behaviour of the servers. It processes the customers for\n",
    "    the pre determined service time and tracks this time.\n",
    "    \"\"\"\n",
    "\n",
    "    def __init__(self, env, n, service_time):\n",
    "        \"\"\"\n",
    "        Initialize Server object.\n",
    "        self.waiting_times keeps track of the time spend in the queue.\n",
    "        self.service_times tracks the time spend in the serves.\n",
    "        \"\"\"\n",
    "\n",
    "        self.env = env\n",
    "        self.server = sim.Resource(env, n)\n",
    "        # self.service_time = service_time\n",
    "        self.waiting_times = list()\n",
    "        self.service_times = list()\n",
    "\n",
    "    def processing(self, service_rate):\n",
    "        \"\"\"\n",
    "        Process a customer for the determined service_time and store this time\n",
    "        spent in self.service_times.\n",
    "        \"\"\"\n",
    "\n",
    "        self.service_times.append(np.random.exponential(service_rate))\n",
    "        yield self.env.timeout(self.service_times[-1])\n"
   ]
  },
  {
   "cell_type": "code",
   "execution_count": 158,
   "metadata": {},
   "outputs": [],
   "source": [
    "def simulation(n, no_customers, service_time, arrival_rate, run_time) -> list:\n",
    "    env = sim.Environment()\n",
    "    servers = Servers(env, n, service_time)\n",
    "    env.process(setup(env, servers, n, no_customers, service_time, arrival_rate))\n",
    "    env.run(until=run_time)\n",
    "    return servers.waiting_times, servers.service_times"
   ]
  },
  {
   "cell_type": "code",
   "execution_count": 117,
   "metadata": {},
   "outputs": [],
   "source": [
    "# Check if it works for simple cases (Calculated by hand).\n",
    "# Does not work anymore after switching from deterministic to memoryless\n",
    "assert simulation(1, 2, 10, 5, 1000)[0][1] == 5\n",
    "assert simulation(2, 2, 10, 5, 1000)[0][1] == 0\n",
    "assert simulation(2, 3, 10, 3, 1000)[0][2] == 4"
   ]
  },
  {
   "cell_type": "markdown",
   "metadata": {},
   "source": [
    "#### Run for rho=0.9"
   ]
  },
  {
   "cell_type": "code",
   "execution_count": 167,
   "metadata": {},
   "outputs": [],
   "source": [
    "# Base parameters for rho=0.9\n",
    "no_customers = 1000\n",
    "service_rate = 0.9\n",
    "arrival_rate = 1\n",
    "total_time = 100000\n",
    "\n",
    "# Simulation parameters\n",
    "no_simulations = 1000\n",
    "n = [1, 2, 4]"
   ]
  },
  {
   "cell_type": "code",
   "execution_count": 168,
   "metadata": {},
   "outputs": [],
   "source": [
    "means_waiting = list()\n",
    "stdev_waiting = list()\n",
    "means_service = list()\n",
    "stdev_service = list()\n",
    "\n",
    "# Go through different number of servers.\n",
    "for i in n:\n",
    "    waiting = list()\n",
    "    service = list()\n",
    "\n",
    "    # Go through the number of simulationes needed.\n",
    "    for j in range(no_simulations):\n",
    "        simu = simulation(i, no_customers, service_rate, arrival_rate, total_time)\n",
    "        waiting.append(np.mean(simu[0]))\n",
    "        service.append(np.mean(simu[1]))\n",
    "\n",
    "    # Store the results for each n.\n",
    "    means_waiting.append(np.mean(waiting))\n",
    "    stdev_waiting.append(np.std(waiting))\n",
    "    means_service.append(np.mean(service))\n",
    "    stdev_service.append(np.std(service))\n",
    "\n",
    "    print(f'Simulations for {i} servers done.')\n"
   ]
  },
  {
   "cell_type": "code",
   "execution_count": 169,
   "metadata": {},
   "outputs": [
    {
     "data": {
      "text/plain": [
       "Text(0.5, 1.0, 'Average waiting time for different number of servers')"
      ]
     },
     "execution_count": 169,
     "metadata": {},
     "output_type": "execute_result"
    },
    {
     "data": {
      "image/png": "[encoded data removed]",
      "text/plain": [
       "<Figure size 640x480 with 1 Axes>"
      ]
     },
     "metadata": {},
     "output_type": "display_data"
    }
   ],
   "source": [
    "plt.errorbar(n, means_waiting, yerr=stdev_waiting, fmt='o', capsize=5, label='Data with Error Bars')\n",
    "plt.xlabel('Number of Servers')\n",
    "plt.ylabel('Waiting Time')\n",
    "plt.title('Average waiting time for different number of servers')"
   ]
  },
  {
   "cell_type": "code",
   "execution_count": 171,
   "metadata": {},
   "outputs": [
    {
     "data": {
      "text/plain": [
       "[7.382604502173761, 0.3751742089775439, 0.22556527643501587]"
      ]
     },
     "execution_count": 171,
     "metadata": {},
     "output_type": "execute_result"
    }
   ],
   "source": [
    "means_waiting"
   ]
  },
  {
   "cell_type": "code",
   "execution_count": 172,
   "metadata": {},
   "outputs": [
    {
     "data": {
      "text/plain": [
       "[4.0680016653077375, 0.0520582521431326, 0.025873280694812862]"
      ]
     },
     "execution_count": 172,
     "metadata": {},
     "output_type": "execute_result"
    }
   ],
   "source": [
    "stdev_waiting"
   ]
  },
  {
   "cell_type": "markdown",
   "metadata": {},
   "source": [
    "#### Run for rho=0.99"
   ]
  },
  {
   "cell_type": "code",
   "execution_count": 173,
   "metadata": {},
   "outputs": [],
   "source": [
    "# Base parameters for rho=0.99\n",
    "no_customers = 1000\n",
    "service_rate = 0.99\n",
    "arrival_rate = 1\n",
    "total_time = 100000\n",
    "\n",
    "# Simulation parameters\n",
    "no_simulations = 1000\n",
    "n = [1, 2, 4]"
   ]
  },
  {
   "cell_type": "code",
   "execution_count": 174,
   "metadata": {},
   "outputs": [
    {
     "name": "stdout",
     "output_type": "stream",
     "text": [
      "Simulations for [1, 2, 4] servers done.\n",
      "Simulations for [1, 2, 4] servers done.\n",
      "Simulations for [1, 2, 4] servers done.\n"
     ]
    }
   ],
   "source": [
    "means_waiting = list()\n",
    "stdev_waiting = list()\n",
    "# means_service = list()\n",
    "# stdev_service = list()\n",
    "\n",
    "# Go through different number of servers.\n",
    "for i in n:\n",
    "    waiting = list()\n",
    "    service = list()\n",
    "\n",
    "    # Go through the number of simulationes needed.\n",
    "    for j in range(no_simulations):\n",
    "        simu = simulation(i, no_customers, service_rate, arrival_rate, total_time)\n",
    "        waiting.append(np.mean(simu[0]))\n",
    "        # service.append(np.mean(simu[1]))\n",
    "\n",
    "    # Store the results for each n.\n",
    "    means_waiting.append(np.mean(waiting))\n",
    "    stdev_waiting.append(np.std(waiting))\n",
    "    # means_service.append(np.mean(service))\n",
    "    # stdev_service.append(np.std(service))\n",
    "\n",
    "    print(f'Simulations for {i} servers done.')"
   ]
  },
  {
   "cell_type": "code",
   "execution_count": 175,
   "metadata": {},
   "outputs": [
    {
     "data": {
      "text/plain": [
       "Text(0.5, 1.0, 'Average waiting time for different number of servers')"
      ]
     },
     "execution_count": 175,
     "metadata": {},
     "output_type": "execute_result"
    },
    {
     "data": {
      "image/png": "[encoded data removed]",
      "text/plain": [
       "<Figure size 640x480 with 1 Axes>"
      ]
     },
     "metadata": {},
     "output_type": "display_data"
    }
   ],
   "source": [
    "plt.errorbar(n, means_waiting, yerr=stdev_waiting, fmt='o', capsize=5, label='Data with Error Bars')\n",
    "plt.xlabel('Number of Servers')\n",
    "plt.ylabel('Waiting Time')\n",
    "plt.title('Average waiting time for different number of servers')"
   ]
  },
  {
   "cell_type": "code",
   "execution_count": 176,
   "metadata": {},
   "outputs": [
    {
     "data": {
      "text/plain": [
       "[19.689975778824234, 0.4716065792203263, 0.24915836656625867]"
      ]
     },
     "execution_count": 176,
     "metadata": {},
     "output_type": "execute_result"
    }
   ],
   "source": [
    "means_waiting"
   ]
  },
  {
   "cell_type": "code",
   "execution_count": 177,
   "metadata": {},
   "outputs": [
    {
     "data": {
      "text/plain": [
       "[11.969396303883014, 0.06835050879085551, 0.026401609733863313]"
      ]
     },
     "execution_count": 177,
     "metadata": {},
     "output_type": "execute_result"
    }
   ],
   "source": [
    "stdev_waiting"
   ]
  },
  {
   "cell_type": "markdown",
   "metadata": {},
   "source": [
    "## Question 3"
   ]
  },
  {
   "cell_type": "code",
   "execution_count": 178,
   "metadata": {},
   "outputs": [],
   "source": [
    "class Priority_Servers(object):\n",
    "    \"\"\"\n",
    "    Class to simulate behaviour of the servers that prioritze lower values.\n",
    "    \"\"\"\n",
    "\n",
    "    def __init__(self, env, n, service_time):\n",
    "        \"\"\"\n",
    "        Initialize Server object.\n",
    "        \"\"\"\n",
    "\n",
    "        self.env = env\n",
    "        self.server = sim.PriorityResource(env, n)\n",
    "        self.service_time = service_time\n",
    "        self.waiting_times = list()\n",
    "        self.service_times = list()\n",
    "\n",
    "    def processing(self, service_time):\n",
    "        self.service_times.append(service_time)\n",
    "        yield self.env.timeout(self.service_time)"
   ]
  },
  {
   "cell_type": "code",
   "execution_count": 179,
   "metadata": {},
   "outputs": [],
   "source": [
    "def simulation_priority(n, no_customers, service_time, arrival_rate, run_time) -> list:\n",
    "    env = sim.Environment()\n",
    "    servers = Priority_Servers(env, n, service_time)\n",
    "    env.process(setup(env, servers, n, no_customers, service_time, arrival_rate))\n",
    "    env.run(until=run_time)\n",
    "    return servers.waiting_times, servers.service_times"
   ]
  },
  {
   "cell_type": "code",
   "execution_count": 183,
   "metadata": {},
   "outputs": [],
   "source": [
    "# Base parameters for rho=0.9\n",
    "no_customers = 1000\n",
    "service_rate = 0.99\n",
    "arrival_rate = 1\n",
    "total_time = 100000\n",
    "\n",
    "# Simulation parameters\n",
    "no_simulations = 100\n",
    "n = [1, 2, 4]"
   ]
  },
  {
   "cell_type": "markdown",
   "metadata": {},
   "source": [
    "#### Run priority queue for rho 0.9"
   ]
  },
  {
   "cell_type": "code",
   "execution_count": 184,
   "metadata": {},
   "outputs": [
    {
     "name": "stdout",
     "output_type": "stream",
     "text": [
      "Simulations for 1 servers done.\n",
      "Simulations for 2 servers done.\n",
      "Simulations for 4 servers done.\n"
     ]
    }
   ],
   "source": [
    "means_waiting = list()\n",
    "stdev_waiting = list()\n",
    "# means_service = list()\n",
    "# stdev_service = list()\n",
    "\n",
    "# Go through different number of servers.\n",
    "for i in n:\n",
    "    waiting = list()\n",
    "    service = list()\n",
    "\n",
    "    # Go through the number of simulationes needed.\n",
    "    for j in range(no_simulations):\n",
    "        simu = simulation_priority(i, no_customers, service_rate, arrival_rate, total_time)\n",
    "        waiting.append(np.mean(simu[0]))\n",
    "        # service.append(np.mean(simu[1]))\n",
    "\n",
    "    # Store the results for each n.\n",
    "    means_waiting.append(np.mean(waiting))\n",
    "    stdev_waiting.append(np.std(waiting))\n",
    "    # means_service.append(np.mean(service))\n",
    "    # stdev_service.append(np.std(service))\n",
    "\n",
    "    print(f'Simulations for {i} servers done.')"
   ]
  },
  {
   "cell_type": "code",
   "execution_count": 185,
   "metadata": {},
   "outputs": [
    {
     "data": {
      "text/plain": [
       "Text(0.5, 1.0, 'Average waiting time for different number of servers')"
      ]
     },
     "execution_count": 185,
     "metadata": {},
     "output_type": "execute_result"
    },
    {
     "data": {
      "image/png": "[encoded data removed]",
      "text/plain": [
       "<Figure size 640x480 with 1 Axes>"
      ]
     },
     "metadata": {},
     "output_type": "display_data"
    }
   ],
   "source": [
    "plt.errorbar(n, means_waiting, yerr=stdev_waiting, fmt='o', capsize=5, label='Data with Error Bars')\n",
    "plt.xlabel('Number of Servers')\n",
    "plt.ylabel('Waiting Time')\n",
    "plt.title('Average waiting time for different number of servers')"
   ]
  },
  {
   "cell_type": "markdown",
   "metadata": {},
   "source": [
    "#### Run priority queue for rho 0.99"
   ]
  },
  {
   "cell_type": "markdown",
   "metadata": {},
   "source": [
    "## Question 4"
   ]
  },
  {
   "cell_type": "markdown",
   "metadata": {},
   "source": [
    "#### Simulations for M/D/1 and M/D/n queues"
   ]
  },
  {
   "cell_type": "code",
   "execution_count": null,
   "metadata": {},
   "outputs": [],
   "source": [
    "class MD_Servers(object):\n",
    "    \"\"\"\n",
    "    Class to simulate behaviour of the servers that prioritze lower values.\n",
    "    \"\"\"\n",
    "\n",
    "    def __init__(self, env, n, service_time):\n",
    "        \"\"\"\n",
    "        Initialize Server object.\n",
    "        \"\"\"\n",
    "\n",
    "        self.env = env\n",
    "        self.server = sim.Resource(env, n)\n",
    "        self.service_time = service_time\n",
    "        self.waiting_times = list()\n",
    "        self.service_times = list()\n",
    "\n",
    "    def processing(self, service_time):\n",
    "        self.service_times.append(service_time)\n",
    "        yield self.env.timeout(self.service_time)"
   ]
  }
 ],
 "metadata": {
  "kernelspec": {
   "display_name": "Python 3",
   "language": "python",
   "name": "python3"
  },
  "language_info": {
   "codemirror_mode": {
    "name": "ipython",
    "version": 3
   },
   "file_extension": ".py",
   "mimetype": "text/x-python",
   "name": "python",
   "nbconvert_exporter": "python",
   "pygments_lexer": "ipython3",
   "version": "3.9.9"
  }
 },
 "nbformat": 4,
 "nbformat_minor": 2
}
