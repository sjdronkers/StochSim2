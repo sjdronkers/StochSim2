{
 "cells": [
  {
   "cell_type": "markdown",
   "metadata": {},
   "source": [
    "# Stochastic Simulation Assignment 2\n",
    "- Dennis Curti (14526263)\n",
    "- Sjoerd Dronkers (13420607)"
   ]
  },
  {
   "cell_type": "code",
   "execution_count": 4,
   "metadata": {},
   "outputs": [
    {
     "name": "stdout",
     "output_type": "stream",
     "text": [
      "Requirement already satisfied: simpy in /Library/Frameworks/Python.framework/Versions/3.11/lib/python3.11/site-packages (4.1.1)\n",
      "\n",
      "\u001b[1m[\u001b[0m\u001b[34;49mnotice\u001b[0m\u001b[1;39;49m]\u001b[0m\u001b[39;49m A new release of pip available: \u001b[0m\u001b[31;49m22.3.1\u001b[0m\u001b[39;49m -> \u001b[0m\u001b[32;49m23.3.1\u001b[0m\n",
      "\u001b[1m[\u001b[0m\u001b[34;49mnotice\u001b[0m\u001b[1;39;49m]\u001b[0m\u001b[39;49m To update, run: \u001b[0m\u001b[32;49mpip3.11 install --upgrade pip\u001b[0m\n",
      "Note: you may need to restart the kernel to use updated packages.\n",
      "Collecting scipy\n",
      "  Downloading scipy-1.11.4-cp311-cp311-macosx_12_0_arm64.whl (29.7 MB)\n",
      "\u001b[2K     \u001b[90m━━━━━━━━━━━━━━━━━━━━━━━━━━━━━━━━━━━━━━━━\u001b[0m \u001b[32m29.7/29.7 MB\u001b[0m \u001b[31m32.3 MB/s\u001b[0m eta \u001b[36m0:00:00\u001b[0m00:01\u001b[0m00:01\u001b[0m\n",
      "\u001b[?25hRequirement already satisfied: numpy<1.28.0,>=1.21.6 in /Library/Frameworks/Python.framework/Versions/3.11/lib/python3.11/site-packages (from scipy) (1.23.4)\n",
      "Installing collected packages: scipy\n",
      "Successfully installed scipy-1.11.4\n",
      "\n",
      "\u001b[1m[\u001b[0m\u001b[34;49mnotice\u001b[0m\u001b[1;39;49m]\u001b[0m\u001b[39;49m A new release of pip available: \u001b[0m\u001b[31;49m22.3.1\u001b[0m\u001b[39;49m -> \u001b[0m\u001b[32;49m23.3.1\u001b[0m\n",
      "\u001b[1m[\u001b[0m\u001b[34;49mnotice\u001b[0m\u001b[1;39;49m]\u001b[0m\u001b[39;49m To update, run: \u001b[0m\u001b[32;49mpip3.11 install --upgrade pip\u001b[0m\n",
      "Note: you may need to restart the kernel to use updated packages.\n"
     ]
    }
   ],
   "source": [
    "%pip install simpy\n",
    "%pip install scipy"
   ]
  },
  {
   "cell_type": "code",
   "execution_count": 42,
   "metadata": {},
   "outputs": [],
   "source": [
    "import matplotlib.pyplot as plt\n",
    "import numpy as np\n",
    "import simpy as sim\n",
    "import scipy.stats as sp"
   ]
  },
  {
   "cell_type": "markdown",
   "metadata": {},
   "source": [
    "## General Functions"
   ]
  },
  {
   "cell_type": "code",
   "execution_count": 43,
   "metadata": {},
   "outputs": [],
   "source": [
    "def confidence_interval(mean, sem):\n",
    "    \"\"\"\n",
    "    Compute the 95% confidence interval.\n",
    "    \"\"\"\n",
    "    z = 1.96\n",
    "    return [mean - z * sem, mean + z * sem]"
   ]
  },
  {
   "cell_type": "code",
   "execution_count": 44,
   "metadata": {},
   "outputs": [],
   "source": [
    "def customer(env, servers, name, service_rate):\n",
    "    \"\"\"\n",
    "    Function to act as a customer.\n",
    "    \"\"\"\n",
    "\n",
    "    arrival = env.now\n",
    "\n",
    "    with servers.server.request() as request:\n",
    "        yield request\n",
    "\n",
    "        # Process the customer through the server.\n",
    "        yield env.process(servers.processing(service_rate))\n",
    "        leave_time = env.now\n",
    "\n",
    "        # Store waiting time spent in the queue.\n",
    "        servers.waiting_times.append(leave_time - arrival - servers.service_times[-1])"
   ]
  },
  {
   "cell_type": "code",
   "execution_count": 45,
   "metadata": {},
   "outputs": [],
   "source": [
    "def setup(env, servers, n, no_customers, service_time, arrival_rate):\n",
    "    \"\"\"\n",
    "    Main function to run the system.\n",
    "    \"\"\"\n",
    "\n",
    "    # Go through the number of customers to be served.\n",
    "    for i in range(no_customers):\n",
    "        env.process(customer(env, servers, f'Person {i}', service_time))\n",
    "        yield env.timeout(np.random.exponential(arrival_rate))"
   ]
  },
  {
   "cell_type": "markdown",
   "metadata": {},
   "source": [
    "## Question 2"
   ]
  },
  {
   "cell_type": "code",
   "execution_count": 46,
   "metadata": {},
   "outputs": [],
   "source": [
    "class Servers(object):\n",
    "    \"\"\"\n",
    "    Class to simulate behaviour of the servers. It processes the customers for\n",
    "    the pre determined service time and tracks this time.\n",
    "    \"\"\"\n",
    "\n",
    "    def __init__(self, env, n, service_time):\n",
    "        \"\"\"\n",
    "        Initialize Server object.\n",
    "        self.waiting_times keeps track of the time spend in the queue.\n",
    "        self.service_times tracks the time spend in the serves.\n",
    "        \"\"\"\n",
    "\n",
    "        self.env = env\n",
    "        self.server = sim.Resource(env, n)\n",
    "        self.waiting_times = list()\n",
    "        self.service_times = list()\n",
    "\n",
    "    def processing(self, service_rate):\n",
    "        \"\"\"\n",
    "        Process a customer for the determined service_time and store this time\n",
    "        spent in self.service_times.\n",
    "        \"\"\"\n",
    "\n",
    "        self.service_times.append(np.random.exponential(service_rate))\n",
    "        yield self.env.timeout(self.service_times[-1])\n"
   ]
  },
  {
   "cell_type": "code",
   "execution_count": 47,
   "metadata": {},
   "outputs": [],
   "source": [
    "def simulation(n, no_customers, service_time, arrival_rate, run_time) -> list:\n",
    "    env = sim.Environment()\n",
    "    servers = Servers(env, n, service_time)\n",
    "    env.process(setup(env, servers, n, no_customers, service_time, arrival_rate))\n",
    "    env.run(until=run_time)\n",
    "    return servers.waiting_times, servers.service_times"
   ]
  },
  {
   "cell_type": "code",
   "execution_count": 117,
   "metadata": {},
   "outputs": [],
   "source": [
    "# Check if it works for simple cases (Calculated by hand).\n",
    "# Does not work anymore after switching from deterministic to memoryless\n",
    "# assert simulation(1, 2, 10, 5, 1000)[0][1] == 5\n",
    "# assert simulation(2, 2, 10, 5, 1000)[0][1] == 0\n",
    "# assert simulation(2, 3, 10, 3, 1000)[0][2] == 4"
   ]
  },
  {
   "cell_type": "markdown",
   "metadata": {},
   "source": [
    "#### Run for rho=0.9"
   ]
  },
  {
   "cell_type": "code",
   "execution_count": 8,
   "metadata": {},
   "outputs": [],
   "source": [
    "# Base parameters for rho=0.9\n",
    "no_customers = 1000\n",
    "service_rate = 0.9\n",
    "arrival_rate = 1\n",
    "total_time = 100000\n",
    "\n",
    "# Simulation parameters\n",
    "no_simulations = 1000\n",
    "n = [1, 2, 4]"
   ]
  },
  {
   "cell_type": "code",
   "execution_count": 9,
   "metadata": {},
   "outputs": [
    {
     "name": "stdout",
     "output_type": "stream",
     "text": [
      "Simulations for 1 servers done.\n",
      "Simulations for 2 servers done.\n",
      "Simulations for 4 servers done.\n"
     ]
    }
   ],
   "source": [
    "means_waiting = list()\n",
    "stdev_waiting = list()\n",
    "\n",
    "# Go through different number of servers.\n",
    "for i in n:\n",
    "    waiting = list()\n",
    "\n",
    "    # Go through the number of simulationes needed.\n",
    "    for j in range(no_simulations):\n",
    "        simu = simulation(i, no_customers, service_rate, arrival_rate, total_time)\n",
    "        waiting.append(np.mean(simu[0]))\n",
    "\n",
    "    # Store the results for each n.\n",
    "    means_waiting.append(np.mean(waiting))\n",
    "    stdev_waiting.append(sp.sem(waiting))\n",
    "\n",
    "    print(f'Simulations for {i} servers done.')"
   ]
  },
  {
   "cell_type": "code",
   "execution_count": 11,
   "metadata": {},
   "outputs": [
    {
     "data": {
      "text/plain": [
       "[7.353925370901778, 0.37426647273164165, 0.22514280567013675]"
      ]
     },
     "execution_count": 11,
     "metadata": {},
     "output_type": "execute_result"
    }
   ],
   "source": [
    "means_waiting"
   ]
  },
  {
   "cell_type": "code",
   "execution_count": 12,
   "metadata": {},
   "outputs": [
    {
     "data": {
      "text/plain": [
       "[0.1314355569160485, 0.0016552541621006962, 0.0007752706990700006]"
      ]
     },
     "execution_count": 12,
     "metadata": {},
     "output_type": "execute_result"
    }
   ],
   "source": [
    "stdev_waiting"
   ]
  },
  {
   "cell_type": "code",
   "execution_count": 19,
   "metadata": {},
   "outputs": [],
   "source": [
    "# Compute the 95% confidence intervals\n",
    "intervals = list()\n",
    "for i in range(len(means_waiting)):\n",
    "    intervals.append(confidence_interval(means_waiting[i], stdev_waiting[i]))"
   ]
  },
  {
   "cell_type": "code",
   "execution_count": 20,
   "metadata": {},
   "outputs": [
    {
     "data": {
      "text/plain": [
       "[[7.096311679346323, 7.611539062457233],\n",
       " [0.3710221745739243, 0.377510770889359],\n",
       " [0.22362327509995955, 0.22666233624031396]]"
      ]
     },
     "execution_count": 20,
     "metadata": {},
     "output_type": "execute_result"
    }
   ],
   "source": [
    "intervals"
   ]
  },
  {
   "cell_type": "markdown",
   "metadata": {},
   "source": [
    "#### Run for rho=0.99"
   ]
  },
  {
   "cell_type": "code",
   "execution_count": 13,
   "metadata": {},
   "outputs": [],
   "source": [
    "# Base parameters for rho=0.99\n",
    "no_customers = 1000\n",
    "service_rate = 0.99\n",
    "arrival_rate = 1\n",
    "total_time = 100000\n",
    "\n",
    "# Simulation parameters\n",
    "no_simulations = 1000\n",
    "n = [1, 2, 4]"
   ]
  },
  {
   "cell_type": "code",
   "execution_count": 14,
   "metadata": {},
   "outputs": [
    {
     "name": "stdout",
     "output_type": "stream",
     "text": [
      "Simulations for 1 servers done.\n",
      "Simulations for 2 servers done.\n",
      "Simulations for 4 servers done.\n"
     ]
    }
   ],
   "source": [
    "means_waiting_rho = list()\n",
    "stdev_waiting_rho = list()\n",
    "\n",
    "# Go through different number of servers.\n",
    "for i in n:\n",
    "    waiting = list()\n",
    "\n",
    "    # Go through the number of simulationes needed.\n",
    "    for j in range(no_simulations):\n",
    "        simu = simulation(i, no_customers, service_rate, arrival_rate, total_time)\n",
    "        waiting.append(np.mean(simu[0]))\n",
    "\n",
    "    # Store the results for each n.\n",
    "    means_waiting_rho.append(np.mean(waiting))\n",
    "    stdev_waiting_rho.append(sp.sem(waiting))\n",
    "\n",
    "    print(f'Simulations for {i} servers done.')"
   ]
  },
  {
   "cell_type": "code",
   "execution_count": 16,
   "metadata": {},
   "outputs": [
    {
     "data": {
      "text/plain": [
       "Text(0.5, 1.0, 'Average waiting time for different number of servers')"
      ]
     },
     "execution_count": 16,
     "metadata": {},
     "output_type": "execute_result"
    },
    {
     "data": {
      "image/png": "[encoded data removed]",
      "text/plain": [
       "<Figure size 640x480 with 1 Axes>"
      ]
     },
     "metadata": {},
     "output_type": "display_data"
    }
   ],
   "source": [
    "plt.errorbar(n, means_waiting, yerr=stdev_waiting, fmt='o', capsize=5, label='rho = 0.9')\n",
    "plt.errorbar(n, means_waiting_rho, yerr=stdev_waiting_rho, fmt='o', capsize=5, label='rho = 0.99')\n",
    "plt.legend()\n",
    "plt.xlabel('Number of Servers')\n",
    "plt.ylabel('Waiting Time')\n",
    "plt.title('Average waiting time for different number of servers')"
   ]
  },
  {
   "cell_type": "code",
   "execution_count": 17,
   "metadata": {},
   "outputs": [
    {
     "data": {
      "text/plain": [
       "[20.053603371250713, 0.4703257897217494, 0.2498344545244384]"
      ]
     },
     "execution_count": 17,
     "metadata": {},
     "output_type": "execute_result"
    }
   ],
   "source": [
    "means_waiting_rho"
   ]
  },
  {
   "cell_type": "code",
   "execution_count": 18,
   "metadata": {},
   "outputs": [
    {
     "data": {
      "text/plain": [
       "[0.38442029207616657, 0.0021109772526680336, 0.0008903453478518832]"
      ]
     },
     "execution_count": 18,
     "metadata": {},
     "output_type": "execute_result"
    }
   ],
   "source": [
    "stdev_waiting_rho"
   ]
  },
  {
   "cell_type": "code",
   "execution_count": 21,
   "metadata": {},
   "outputs": [
    {
     "name": "stdout",
     "output_type": "stream",
     "text": [
      "[[19.300139598781428, 20.807067143719998], [0.46618827430652005, 0.4744633051369787], [0.2480893776426487, 0.2515795314062281]]\n"
     ]
    }
   ],
   "source": [
    "# Compute the 95% confidence intervals\n",
    "intervals = list()\n",
    "for i in range(len(means_waiting)):\n",
    "    intervals.append(confidence_interval(means_waiting_rho[i], stdev_waiting_rho[i]))\n",
    "print(intervals)"
   ]
  },
  {
   "cell_type": "markdown",
   "metadata": {},
   "source": [
    "## Question 3"
   ]
  },
  {
   "cell_type": "code",
   "execution_count": 10,
   "metadata": {},
   "outputs": [],
   "source": [
    "class Priority_Servers(object):\n",
    "    \"\"\"\n",
    "    Class to simulate behaviour of the servers that prioritze lower values.\n",
    "    \"\"\"\n",
    "\n",
    "    def __init__(self, env, n, service_time):\n",
    "        \"\"\"\n",
    "        Initialize Server object.\n",
    "        \"\"\"\n",
    "\n",
    "        self.env = env\n",
    "        self.server = sim.PriorityResource(env, n)\n",
    "        self.waiting_times = list()\n",
    "        self.service_times = list()\n",
    "\n",
    "    def processing(self, service_time):\n",
    "        self.service_times.append(np.random.exponential(service_rate))\n",
    "        yield self.env.timeout(self.service_times[-1])"
   ]
  },
  {
   "cell_type": "code",
   "execution_count": 11,
   "metadata": {},
   "outputs": [],
   "source": [
    "def simulation_priority(n, no_customers, service_time, arrival_rate, run_time) -> list:\n",
    "    env = sim.Environment()\n",
    "    servers = Priority_Servers(env, n, service_time)\n",
    "    env.process(setup(env, servers, n, no_customers, service_time, arrival_rate))\n",
    "    env.run(until=run_time)\n",
    "    return servers.waiting_times, servers.service_times"
   ]
  },
  {
   "cell_type": "markdown",
   "metadata": {},
   "source": [
    "#### Run priority queue for rho 0.9"
   ]
  },
  {
   "cell_type": "code",
   "execution_count": 24,
   "metadata": {},
   "outputs": [],
   "source": [
    "# Base parameters for rho=0.9\n",
    "no_customers = 1000\n",
    "service_rate = 0.90\n",
    "arrival_rate = 1\n",
    "total_time = 100000\n",
    "\n",
    "# Simulation parameters\n",
    "no_simulations = 1000\n",
    "n = [1, 2, 4]"
   ]
  },
  {
   "cell_type": "code",
   "execution_count": 25,
   "metadata": {},
   "outputs": [
    {
     "name": "stdout",
     "output_type": "stream",
     "text": [
      "Simulations for 1 servers done.\n",
      "Simulations for 2 servers done.\n",
      "Simulations for 4 servers done.\n"
     ]
    }
   ],
   "source": [
    "means_waiting = list()\n",
    "stdev_waiting = list()\n",
    "\n",
    "# Go through different number of servers.\n",
    "for i in n:\n",
    "    waiting = list()\n",
    "    service = list()\n",
    "\n",
    "    # Go through the number of simulationes needed.\n",
    "    for j in range(no_simulations):\n",
    "        simu = simulation_priority(i, no_customers, service_rate, arrival_rate, total_time)\n",
    "        waiting.append(np.mean(simu[0]))\n",
    "\n",
    "    # Store the results for each n.\n",
    "    means_waiting.append(np.mean(waiting))\n",
    "    stdev_waiting.append(sp.sem(waiting))\n",
    "\n",
    "    print(f'Simulations for {i} servers done.')"
   ]
  },
  {
   "cell_type": "code",
   "execution_count": 26,
   "metadata": {},
   "outputs": [
    {
     "data": {
      "text/plain": [
       "[7.342210091483734, 0.37666170877021965, 0.2254833710566472]"
      ]
     },
     "execution_count": 26,
     "metadata": {},
     "output_type": "execute_result"
    }
   ],
   "source": [
    "means_waiting"
   ]
  },
  {
   "cell_type": "code",
   "execution_count": 27,
   "metadata": {},
   "outputs": [
    {
     "data": {
      "text/plain": [
       "[0.12186408258270526, 0.0015978754837997265, 0.0007635675277581048]"
      ]
     },
     "execution_count": 27,
     "metadata": {},
     "output_type": "execute_result"
    }
   ],
   "source": [
    "stdev_waiting"
   ]
  },
  {
   "cell_type": "code",
   "execution_count": 33,
   "metadata": {},
   "outputs": [
    {
     "name": "stdout",
     "output_type": "stream",
     "text": [
      "[[7.103356489621632, 7.581063693345836], [0.3735298728219722, 0.3797935447184671], [0.22398677870224132, 0.2269799634110531]]\n"
     ]
    }
   ],
   "source": [
    "# Compute the 95% confidence intervals\n",
    "intervals = list()\n",
    "for i in range(len(means_waiting)):\n",
    "    intervals.append(confidence_interval(means_waiting[i], stdev_waiting[i]))\n",
    "print(intervals)"
   ]
  },
  {
   "cell_type": "markdown",
   "metadata": {},
   "source": [
    "#### Run priority queue for rho 0.99"
   ]
  },
  {
   "cell_type": "code",
   "execution_count": 36,
   "metadata": {},
   "outputs": [],
   "source": [
    "# Base parameters for rho=0.99\n",
    "no_customers = 1000\n",
    "service_rate = 0.99\n",
    "arrival_rate = 1\n",
    "total_time = 100000\n",
    "\n",
    "# Simulation parameters\n",
    "no_simulations = 1000\n",
    "n = [1, 2, 4]"
   ]
  },
  {
   "cell_type": "code",
   "execution_count": 37,
   "metadata": {},
   "outputs": [
    {
     "name": "stdout",
     "output_type": "stream",
     "text": [
      "Simulations for 1 servers done.\n",
      "Simulations for 2 servers done.\n",
      "Simulations for 4 servers done.\n"
     ]
    }
   ],
   "source": [
    "means_waiting_rho = list()\n",
    "stdev_waiting_rho = list()\n",
    "\n",
    "# Go through different number of servers.\n",
    "for i in n:\n",
    "    waiting = list()\n",
    "\n",
    "    # Go through the number of simulationes needed.\n",
    "    for j in range(no_simulations):\n",
    "        simu = simulation_priority(i, no_customers, service_rate, arrival_rate, total_time)\n",
    "        waiting.append(np.mean(simu[0]))\n",
    "\n",
    "    # Store the results for each n.\n",
    "    means_waiting_rho.append(np.mean(waiting))\n",
    "    stdev_waiting_rho.append(sp.sem(waiting))\n",
    "\n",
    "    print(f'Simulations for {i} servers done.')"
   ]
  },
  {
   "cell_type": "code",
   "execution_count": 38,
   "metadata": {},
   "outputs": [
    {
     "data": {
      "text/plain": [
       "Text(0.5, 1.0, 'Average waiting time for different number of servers')"
      ]
     },
     "execution_count": 38,
     "metadata": {},
     "output_type": "execute_result"
    },
    {
     "data": {
      "image/png": "[encoded data removed]",
      "text/plain": [
       "<Figure size 640x480 with 1 Axes>"
      ]
     },
     "metadata": {},
     "output_type": "display_data"
    }
   ],
   "source": [
    "plt.errorbar(n, means_waiting, yerr=stdev_waiting, fmt='o', capsize=5, label='rho = 0.9')\n",
    "plt.errorbar(n, means_waiting_rho, yerr=stdev_waiting_rho, fmt='o', capsize=5, label='rho = 0.99')\n",
    "plt.legend()\n",
    "plt.xlabel('Number of Servers')\n",
    "plt.ylabel('Waiting Time')\n",
    "plt.title('Average waiting time for different number of servers')"
   ]
  },
  {
   "cell_type": "code",
   "execution_count": 39,
   "metadata": {},
   "outputs": [
    {
     "data": {
      "text/plain": [
       "[20.439480012559386, 0.47392196608899234, 0.24813487855151425]"
      ]
     },
     "execution_count": 39,
     "metadata": {},
     "output_type": "execute_result"
    }
   ],
   "source": [
    "means_waiting_rho"
   ]
  },
  {
   "cell_type": "code",
   "execution_count": 40,
   "metadata": {},
   "outputs": [
    {
     "data": {
      "text/plain": [
       "[0.38108719297191296, 0.002179922957114493, 0.0008633745188588471]"
      ]
     },
     "execution_count": 40,
     "metadata": {},
     "output_type": "execute_result"
    }
   ],
   "source": [
    "stdev_waiting_rho"
   ]
  },
  {
   "cell_type": "code",
   "execution_count": 34,
   "metadata": {},
   "outputs": [
    {
     "name": "stdout",
     "output_type": "stream",
     "text": [
      "[[19.50477085597101, 21.018906242830134], [0.46541221399393645, 0.4739291336571633], [0.24973319059521681, 0.2532268711812454]]\n"
     ]
    }
   ],
   "source": [
    "# Compute the 95% confidence intervals\n",
    "intervals = list()\n",
    "for i in range(len(means_waiting)):\n",
    "    intervals.append(confidence_interval(means_waiting_rho[i], stdev_waiting_rho[i]))\n",
    "print(intervals)"
   ]
  },
  {
   "cell_type": "markdown",
   "metadata": {},
   "source": [
    "## Question 4"
   ]
  },
  {
   "cell_type": "markdown",
   "metadata": {},
   "source": [
    "#### Simulations for M/D/1 and M/D/n queues, rho=0.90"
   ]
  },
  {
   "cell_type": "code",
   "execution_count": 76,
   "metadata": {},
   "outputs": [],
   "source": [
    "class MD_Servers(object):\n",
    "    \"\"\"\n",
    "    Class to simulate behaviour of the servers that prioritze lower values.\n",
    "    \"\"\"\n",
    "\n",
    "    def __init__(self, env, n, service_time):\n",
    "        \"\"\"\n",
    "        Initialize Server object.\n",
    "        \"\"\"\n",
    "\n",
    "        self.env = env\n",
    "        self.server = sim.Resource(env, n)\n",
    "        self.service_time = service_time\n",
    "        self.waiting_times = list()\n",
    "        self.service_times = list()\n",
    "\n",
    "    def processing(self, service_time):\n",
    "        self.service_times.append(service_time)\n",
    "        yield self.env.timeout(self.service_time)"
   ]
  },
  {
   "cell_type": "code",
   "execution_count": 77,
   "metadata": {},
   "outputs": [],
   "source": [
    "def simulation_md(n, no_customers, service_time, arrival_rate, run_time) -> list:\n",
    "    env = sim.Environment()\n",
    "    servers = MD_Servers(env, n, service_time)\n",
    "    env.process(setup(env, servers, n, no_customers, service_time, arrival_rate))\n",
    "    env.run(until=run_time)\n",
    "    return servers.waiting_times, servers.service_times"
   ]
  },
  {
   "cell_type": "code",
   "execution_count": 79,
   "metadata": {},
   "outputs": [],
   "source": [
    "# Base parameters for rho=0.9\n",
    "no_customers = 1000\n",
    "service_rate = 0.90\n",
    "arrival_rate = 1\n",
    "total_time = 100000\n",
    "\n",
    "# Simulation parameters\n",
    "no_simulations = 1000\n",
    "n = [1, 2, 4]"
   ]
  },
  {
   "cell_type": "code",
   "execution_count": 80,
   "metadata": {},
   "outputs": [
    {
     "name": "stdout",
     "output_type": "stream",
     "text": [
      "Simulations for 1 servers done.\n",
      "Simulations for 2 servers done.\n",
      "Simulations for 4 servers done.\n"
     ]
    }
   ],
   "source": [
    "means_waiting = list()\n",
    "stdev_waiting = list()\n",
    "\n",
    "# Go through different number of servers.\n",
    "for i in n:\n",
    "    waiting = list()\n",
    "    service = list()\n",
    "\n",
    "    # Go through the number of simulationes needed.\n",
    "    for j in range(no_simulations):\n",
    "        simu = simulation_md(i, no_customers, service_rate, arrival_rate, total_time)\n",
    "        waiting.append(np.mean(simu[0]))\n",
    "\n",
    "    # Store the results for each n.\n",
    "    means_waiting.append(np.mean(waiting))\n",
    "    stdev_waiting.append(sp.sem(waiting))\n",
    "\n",
    "    print(f'Simulations for {i} servers done.')"
   ]
  },
  {
   "cell_type": "code",
   "execution_count": 49,
   "metadata": {},
   "outputs": [
    {
     "data": {
      "text/plain": [
       "Text(0.5, 1.0, 'Average waiting time for different number of servers')"
      ]
     },
     "execution_count": 49,
     "metadata": {},
     "output_type": "execute_result"
    },
    {
     "data": {
      "image/png": "[encoded data removed]",
      "text/plain": [
       "<Figure size 640x480 with 1 Axes>"
      ]
     },
     "metadata": {},
     "output_type": "display_data"
    }
   ],
   "source": [
    "plt.errorbar(n, means_waiting, yerr=stdev_waiting, fmt='o', capsize=5, label='Data with Error Bars')\n",
    "plt.xlabel('Number of Servers')\n",
    "plt.ylabel('Waiting Time')\n",
    "plt.title('Average waiting time for different number of servers')"
   ]
  },
  {
   "cell_type": "code",
   "execution_count": 81,
   "metadata": {},
   "outputs": [
    {
     "data": {
      "text/plain": [
       "[3.766497636330993, 0.1218106972072134, 0.002849850065013162]"
      ]
     },
     "execution_count": 81,
     "metadata": {},
     "output_type": "execute_result"
    }
   ],
   "source": [
    "means_waiting"
   ]
  },
  {
   "cell_type": "code",
   "execution_count": 82,
   "metadata": {},
   "outputs": [
    {
     "data": {
      "text/plain": [
       "[0.04661946583143784, 0.0005820748746152501, 4.379110284596981e-05]"
      ]
     },
     "execution_count": 82,
     "metadata": {},
     "output_type": "execute_result"
    }
   ],
   "source": [
    "stdev_waiting"
   ]
  },
  {
   "cell_type": "code",
   "execution_count": 83,
   "metadata": {},
   "outputs": [
    {
     "name": "stdout",
     "output_type": "stream",
     "text": [
      "[[3.6751234833013746, 3.8578717893606114], [0.1206698304529675, 0.12295156396145929], [0.0027640195034350614, 0.002935680626591263]]\n"
     ]
    }
   ],
   "source": [
    "# Compute the 95% confidence intervals\n",
    "intervals = list()\n",
    "for i in range(len(means_waiting)):\n",
    "    intervals.append(confidence_interval(means_waiting[i], stdev_waiting[i]))\n",
    "print(intervals)"
   ]
  },
  {
   "cell_type": "markdown",
   "metadata": {},
   "source": [
    "#### Simulations for rho=0.99"
   ]
  },
  {
   "cell_type": "code",
   "execution_count": 84,
   "metadata": {},
   "outputs": [],
   "source": [
    "# Base parameters for rho=0.99\n",
    "no_customers = 1000\n",
    "service_rate = 0.99\n",
    "arrival_rate = 1\n",
    "total_time = 100000\n",
    "\n",
    "# Simulation parameters\n",
    "no_simulations = 1000\n",
    "n = [1, 2, 4]"
   ]
  },
  {
   "cell_type": "code",
   "execution_count": 85,
   "metadata": {},
   "outputs": [
    {
     "name": "stdout",
     "output_type": "stream",
     "text": [
      "Simulations for 1 servers done.\n",
      "Simulations for 2 servers done.\n",
      "Simulations for 4 servers done.\n"
     ]
    }
   ],
   "source": [
    "means_waiting = list()\n",
    "stdev_waiting = list()\n",
    "\n",
    "# Go through different number of servers.\n",
    "for i in n:\n",
    "    waiting = list()\n",
    "    service = list()\n",
    "\n",
    "    # Go through the number of simulationes needed.\n",
    "    for j in range(no_simulations):\n",
    "        simu = simulation_md(i, no_customers, service_rate, arrival_rate, total_time)\n",
    "        waiting.append(np.mean(simu[0]))\n",
    "\n",
    "    # Store the results for each n.\n",
    "    means_waiting.append(np.mean(waiting))\n",
    "    stdev_waiting.append(sp.sem(waiting))\n",
    "\n",
    "    print(f'Simulations for {i} servers done.')"
   ]
  },
  {
   "cell_type": "code",
   "execution_count": 87,
   "metadata": {},
   "outputs": [
    {
     "data": {
      "text/plain": [
       "[13.74237701680854, 0.1696356062460668, 0.004292148623649119]"
      ]
     },
     "execution_count": 87,
     "metadata": {},
     "output_type": "execute_result"
    }
   ],
   "source": [
    "means_waiting"
   ]
  },
  {
   "cell_type": "code",
   "execution_count": 88,
   "metadata": {},
   "outputs": [
    {
     "data": {
      "text/plain": [
       "[0.25347348475359216, 0.0008227715378228933, 5.815386133363762e-05]"
      ]
     },
     "execution_count": 88,
     "metadata": {},
     "output_type": "execute_result"
    }
   ],
   "source": [
    "stdev_waiting"
   ]
  },
  {
   "cell_type": "code",
   "execution_count": 86,
   "metadata": {},
   "outputs": [
    {
     "name": "stdout",
     "output_type": "stream",
     "text": [
      "[[13.245568986691499, 14.23918504692558], [0.16802297403193392, 0.17124823846019968], [0.004178167055435189, 0.004406130191863049]]\n"
     ]
    }
   ],
   "source": [
    "# Compute the 95% confidence intervals\n",
    "intervals = list()\n",
    "for i in range(len(means_waiting)):\n",
    "    intervals.append(confidence_interval(means_waiting[i], stdev_waiting[i]))\n",
    "print(intervals)"
   ]
  },
  {
   "cell_type": "markdown",
   "metadata": {},
   "source": [
    "#### Simulations for long-tail distrbution queues"
   ]
  },
  {
   "cell_type": "code",
   "execution_count": 54,
   "metadata": {},
   "outputs": [],
   "source": [
    "class Long_Tail_Servers(object):\n",
    "    \"\"\"\n",
    "    Class to simulate behaviour of the servers where 25% of the jobs have a longer\n",
    "    service time. In other words, a long-tail distribution.\n",
    "    \"\"\"\n",
    "\n",
    "    def __init__(self, env, n, service_time):\n",
    "        \"\"\"\n",
    "        Initialize Server object.\n",
    "        \"\"\"\n",
    "\n",
    "        self.env = env\n",
    "        self.server = sim.Resource(env, n)\n",
    "        self.waiting_times = list()\n",
    "        self.service_times = list()\n",
    "\n",
    "    def processing(self, service_time):\n",
    "        x = np.random.rand()\n",
    "\n",
    "        # 75% should have a service rate with mean 1\n",
    "        if x >= 0.25:\n",
    "            self.service_times.append(np.random.exponential(1))\n",
    "            yield self.env.timeout(self.service_times[-1])\n",
    "\n",
    "        # 25% should have a service rate with mean 1\n",
    "        else:\n",
    "            self.service_times.append(np.random.exponential(5))\n",
    "            yield self.env.timeout(self.service_times[-1])"
   ]
  },
  {
   "cell_type": "code",
   "execution_count": 55,
   "metadata": {},
   "outputs": [],
   "source": [
    "def simulation_long_tail(n, no_customers, service_time, arrival_rate, run_time) -> list:\n",
    "    env = sim.Environment()\n",
    "    servers = Long_Tail_Servers(env, n, service_time)\n",
    "    env.process(setup(env, servers, n, no_customers, service_time, arrival_rate))\n",
    "    env.run(until=run_time)\n",
    "    return servers.waiting_times, servers.service_times"
   ]
  },
  {
   "cell_type": "code",
   "execution_count": 56,
   "metadata": {},
   "outputs": [],
   "source": [
    "# Base parameters for rho=0.9\n",
    "no_customers = 1000\n",
    "service_rate = 0.90\n",
    "arrival_rate = 1\n",
    "total_time = 10000000\n",
    "\n",
    "# Simulation parameters\n",
    "no_simulations = 1000\n",
    "n = [1, 2, 4]"
   ]
  },
  {
   "cell_type": "code",
   "execution_count": 69,
   "metadata": {},
   "outputs": [
    {
     "name": "stdout",
     "output_type": "stream",
     "text": [
      "Simulations for 1 servers done.\n",
      "Simulations for 2 servers done.\n",
      "Simulations for 4 servers done.\n"
     ]
    }
   ],
   "source": [
    "means_waiting = list()\n",
    "stdev_waiting = list()\n",
    "means_service = list()\n",
    "stdev_service = list()\n",
    "\n",
    "# Go through different number of servers.\n",
    "for i in n:\n",
    "    waiting = list()\n",
    "    service = list()\n",
    "\n",
    "    # Go through the number of simulationes needed.\n",
    "    for j in range(no_simulations):\n",
    "        simu = simulation_long_tail(i, no_customers, service_rate, arrival_rate, total_time)\n",
    "        waiting.append(np.mean(simu[0]))\n",
    "        service.append(np.mean(simu[1]))\n",
    "\n",
    "    # Store the results for each n.\n",
    "    means_waiting.append(np.mean(waiting))\n",
    "    stdev_waiting.append(sp.sem(waiting))\n",
    "    means_service.append(np.mean(service))\n",
    "    stdev_service.append(sp.sem(service))\n",
    "\n",
    "    print(f'Simulations for {i} servers done.')"
   ]
  },
  {
   "cell_type": "code",
   "execution_count": 70,
   "metadata": {},
   "outputs": [
    {
     "data": {
      "text/plain": [
       "[1.9992136861619516, 2.002363345438695, 2.001107358488345]"
      ]
     },
     "execution_count": 70,
     "metadata": {},
     "output_type": "execute_result"
    }
   ],
   "source": [
    "means_service"
   ]
  },
  {
   "cell_type": "code",
   "execution_count": 71,
   "metadata": {},
   "outputs": [
    {
     "data": {
      "text/plain": [
       "[0.003050092824973933, 0.0032183300360137156, 0.0031005990221111977]"
      ]
     },
     "execution_count": 71,
     "metadata": {},
     "output_type": "execute_result"
    }
   ],
   "source": [
    "stdev_service"
   ]
  },
  {
   "cell_type": "code",
   "execution_count": 72,
   "metadata": {},
   "outputs": [
    {
     "name": "stdout",
     "output_type": "stream",
     "text": [
      "[[1.9932355042250027, 2.0051918680989007], [1.996055418568108, 2.008671272309282], [1.9950301844050071, 2.007184532571683]]\n"
     ]
    }
   ],
   "source": [
    "# Compute the 95% confidence intervals\n",
    "intervals = list()\n",
    "for i in range(len(means_waiting)):\n",
    "    intervals.append(confidence_interval(means_service[i], stdev_service[i]))\n",
    "print(intervals)"
   ]
  },
  {
   "cell_type": "code",
   "execution_count": 73,
   "metadata": {},
   "outputs": [
    {
     "data": {
      "text/plain": [
       "[501.44129481810904, 28.846890822429838, 0.764075638535089]"
      ]
     },
     "execution_count": 73,
     "metadata": {},
     "output_type": "execute_result"
    }
   ],
   "source": [
    "means_waiting"
   ]
  },
  {
   "cell_type": "code",
   "execution_count": 74,
   "metadata": {},
   "outputs": [
    {
     "data": {
      "text/plain": [
       "[1.8307469736327693, 0.5702173806700068, 0.004838875455405226]"
      ]
     },
     "execution_count": 74,
     "metadata": {},
     "output_type": "execute_result"
    }
   ],
   "source": [
    "stdev_waiting"
   ]
  },
  {
   "cell_type": "code",
   "execution_count": 75,
   "metadata": {},
   "outputs": [
    {
     "name": "stdout",
     "output_type": "stream",
     "text": [
      "[[497.85303074978884, 505.02955888642924], [27.729264756316624, 29.964516888543052], [0.7545914426424948, 0.7735598344276832]]\n"
     ]
    }
   ],
   "source": [
    "# Compute the 95% confidence intervals\n",
    "intervals = list()\n",
    "for i in range(len(means_waiting)):\n",
    "    intervals.append(confidence_interval(means_waiting[i], stdev_waiting[i]))\n",
    "print(intervals)"
   ]
  },
  {
   "cell_type": "markdown",
   "metadata": {},
   "source": [
    "##### Compute M/M/n again to compare against long tail"
   ]
  },
  {
   "cell_type": "code",
   "execution_count": 63,
   "metadata": {},
   "outputs": [],
   "source": [
    "# Base parameters for rho=0.9\n",
    "no_customers = 1000\n",
    "service_rate = 0.90\n",
    "arrival_rate = 1\n",
    "total_time = 10000000\n",
    "\n",
    "# Simulation parameters\n",
    "no_simulations = 1000\n",
    "n = [1, 2, 4]"
   ]
  },
  {
   "cell_type": "code",
   "execution_count": 64,
   "metadata": {},
   "outputs": [
    {
     "name": "stdout",
     "output_type": "stream",
     "text": [
      "Simulations for 1 servers done.\n",
      "Simulations for 2 servers done.\n",
      "Simulations for 4 servers done.\n"
     ]
    }
   ],
   "source": [
    "means_waiting = list()\n",
    "stdev_waiting = list()\n",
    "means_service = list()\n",
    "stdev_service = list()\n",
    "\n",
    "# Go through different number of servers.\n",
    "for i in n:\n",
    "    waiting = list()\n",
    "    service = list()\n",
    "\n",
    "    # Go through the number of simulationes needed.\n",
    "    for j in range(no_simulations):\n",
    "        simu = simulation(i, no_customers, service_rate, arrival_rate, total_time)\n",
    "        waiting.append(np.mean(simu[0]))\n",
    "        service.append(np.mean(simu[1]))\n",
    "\n",
    "    # Store the results for each n.\n",
    "    means_waiting.append(np.mean(waiting))\n",
    "    stdev_waiting.append(sp.sem(waiting))\n",
    "    means_service.append(np.mean(service))\n",
    "    stdev_service.append(sp.sem(service))\n",
    "\n",
    "    print(f'Simulations for {i} servers done.')"
   ]
  },
  {
   "cell_type": "code",
   "execution_count": 65,
   "metadata": {},
   "outputs": [
    {
     "data": {
      "text/plain": [
       "[0.8991995901257669, 0.8998597200694278, 0.900714335041834]"
      ]
     },
     "execution_count": 65,
     "metadata": {},
     "output_type": "execute_result"
    }
   ],
   "source": [
    "means_service"
   ]
  },
  {
   "cell_type": "code",
   "execution_count": 66,
   "metadata": {},
   "outputs": [
    {
     "data": {
      "text/plain": [
       "[0.0009003914694884863, 0.0009200043806264634, 0.0009057327403934518]"
      ]
     },
     "execution_count": 66,
     "metadata": {},
     "output_type": "execute_result"
    }
   ],
   "source": [
    "stdev_service"
   ]
  },
  {
   "cell_type": "code",
   "execution_count": 68,
   "metadata": {},
   "outputs": [
    {
     "name": "stdout",
     "output_type": "stream",
     "text": [
      "[[0.8974348228455694, 0.9009643574059644], [0.8980565114833999, 0.9016629286554557], [0.8989390988706628, 0.9024895712130051]]\n"
     ]
    }
   ],
   "source": [
    "# Compute the 95% confidence intervals\n",
    "intervals = list()\n",
    "for i in range(len(means_waiting)):\n",
    "    intervals.append(confidence_interval(means_service[i], stdev_service[i]))\n",
    "print(intervals)"
   ]
  },
  {
   "cell_type": "code",
   "execution_count": null,
   "metadata": {},
   "outputs": [],
   "source": []
  }
 ],
 "metadata": {
  "kernelspec": {
   "display_name": "Python 3.11.0 64-bit",
   "language": "python",
   "name": "python3"
  },
  "language_info": {
   "codemirror_mode": {
    "name": "ipython",
    "version": 3
   },
   "file_extension": ".py",
   "mimetype": "text/x-python",
   "name": "python",
   "nbconvert_exporter": "python",
   "pygments_lexer": "ipython3",
   "version": "3.11.0"
  },
  "vscode": {
   "interpreter": {
    "hash": "1a1af0ee75eeea9e2e1ee996c87e7a2b11a0bebd85af04bb136d915cefc0abce"
   }
  }
 },
 "nbformat": 4,
 "nbformat_minor": 2
}
