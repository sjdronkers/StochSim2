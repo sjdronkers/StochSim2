{
 "cells": [
  {
   "cell_type": "markdown",
   "metadata": {},
   "source": [
    "# Stochastic Simulation Assignment 2\n",
    "- Dennis Curti (14526263)\n",
    "- Sjoerd Dronkers (13420607)"
   ]
  },
  {
   "cell_type": "code",
   "execution_count": 1,
   "metadata": {},
   "outputs": [],
   "source": [
    "import matplotlib.pyplot as plt\n",
    "import numpy as np\n",
    "import simpy as sim\n",
    "import scipy.stats as sp"
   ]
  },
  {
   "cell_type": "markdown",
   "metadata": {},
   "source": [
    "## Question 2"
   ]
  },
  {
   "cell_type": "code",
   "execution_count": 75,
   "metadata": {},
   "outputs": [],
   "source": [
    "waiting_times = list()"
   ]
  },
  {
   "cell_type": "code",
   "execution_count": 82,
   "metadata": {},
   "outputs": [],
   "source": [
    "class Servers(object):\n",
    "    \"\"\"\n",
    "    Class to simulate behaviour of the servers.\n",
    "    \"\"\"\n",
    "\n",
    "    def __init__(self, env, n, service_time):\n",
    "        \"\"\"\n",
    "        Initialize Server object.\n",
    "        \"\"\"\n",
    "\n",
    "        self.env = env\n",
    "        self.server = sim.Resource(env, n)\n",
    "        self.service_time = service_time\n",
    "        self.waiting_times = list()\n",
    "\n",
    "    def processing(self, service_time):\n",
    "        yield self.env.timeout(self.service_time)\n"
   ]
  },
  {
   "cell_type": "code",
   "execution_count": 84,
   "metadata": {},
   "outputs": [],
   "source": [
    "def customer(env, servers, name, service_time):\n",
    "    \"\"\"\n",
    "    Function to act as a customer.\n",
    "    \"\"\"\n",
    "\n",
    "    arrival = env.now\n",
    "\n",
    "    with servers.server.request() as request:\n",
    "        yield request\n",
    "\n",
    "        yield env.process(servers.processing(service_time))\n",
    "        enter_time = env.now\n",
    "        servers.waiting_times.append(enter_time - arrival - service_time)\n",
    "        # global waiting_times\n",
    "        # waiting_times.append(enter_time - arrival - service_time)\n",
    "        # print(f'Waiting_time: {enter_time - arrival - service_time}')"
   ]
  },
  {
   "cell_type": "code",
   "execution_count": 93,
   "metadata": {},
   "outputs": [],
   "source": [
    "def setup(env, servers, n, no_customers, service_time, arrival_rate):\n",
    "    \"\"\"\n",
    "    Main function to run the system.\n",
    "    \"\"\"\n",
    "\n",
    "    for i in range(no_customers):\n",
    "        env.process(customer(env, servers, f'Person {i}', service_time))\n",
    "        yield env.timeout(arrival_rate)"
   ]
  },
  {
   "cell_type": "code",
   "execution_count": 97,
   "metadata": {},
   "outputs": [],
   "source": [
    "# Base parameters\n",
    "# n = [1, 2, 4]\n",
    "no_customers = 20\n",
    "total_time = 500\n",
    "n = 1\n",
    "service_time = 10\n",
    "arrival_rate = 5\n",
    "run_time = 1000"
   ]
  },
  {
   "cell_type": "code",
   "execution_count": 98,
   "metadata": {},
   "outputs": [],
   "source": [
    "def simulation(n, no_customers, service_time, arrival_rate, run_time):\n",
    "    env = sim.Environment()\n",
    "    servers = Servers(env, n, service_time)\n",
    "    env.process(setup(env, servers, n, no_customers, service_time, arrival_rate))\n",
    "    env.run(until=run_time)\n",
    "    return servers.waiting_times"
   ]
  },
  {
   "cell_type": "code",
   "execution_count": 107,
   "metadata": {},
   "outputs": [],
   "source": [
    "# Check if it works for simple cases\n",
    "assert simulation(1, 2, 10, 5, 1000)[1] == 5\n",
    "assert simulation(2, 2, 10, 5, 1000)[1] == 0\n",
    "assert simulation(2, 3, 10, 3, 1000)[2] == 4"
   ]
  },
  {
   "cell_type": "code",
   "execution_count": 99,
   "metadata": {},
   "outputs": [],
   "source": [
    "times = simulation(n, no_customers, service_time, arrival_rate, run_time)"
   ]
  },
  {
   "cell_type": "code",
   "execution_count": 100,
   "metadata": {},
   "outputs": [
    {
     "data": {
      "text/plain": [
       "[0, 5, 10, 15, 20, 25, 30, 35, 40, 45, 50, 55, 60, 65, 70, 75, 80, 85, 90, 95]"
      ]
     },
     "execution_count": 100,
     "metadata": {},
     "output_type": "execute_result"
    }
   ],
   "source": [
    "times"
   ]
  },
  {
   "cell_type": "code",
   "execution_count": 80,
   "metadata": {},
   "outputs": [
    {
     "name": "stdout",
     "output_type": "stream",
     "text": [
      "[0, 5, 10, 15, 20, 25, 30, 35, 40, 45, 50, 55, 60, 65, 70, 75, 80, 85, 90, 95]\n"
     ]
    }
   ],
   "source": [
    "print(waiting_times)"
   ]
  },
  {
   "cell_type": "markdown",
   "metadata": {},
   "source": [
    "## Question 3"
   ]
  },
  {
   "cell_type": "code",
   "execution_count": null,
   "metadata": {},
   "outputs": [],
   "source": [
    "# Useful for small first scheduling: sim.PriorityResource"
   ]
  },
  {
   "cell_type": "markdown",
   "metadata": {},
   "source": [
    "## Question 4"
   ]
  },
  {
   "cell_type": "code",
   "execution_count": null,
   "metadata": {},
   "outputs": [],
   "source": []
  }
 ],
 "metadata": {
  "kernelspec": {
   "display_name": "Python 3",
   "language": "python",
   "name": "python3"
  },
  "language_info": {
   "codemirror_mode": {
    "name": "ipython",
    "version": 3
   },
   "file_extension": ".py",
   "mimetype": "text/x-python",
   "name": "python",
   "nbconvert_exporter": "python",
   "pygments_lexer": "ipython3",
   "version": "3.9.9"
  }
 },
 "nbformat": 4,
 "nbformat_minor": 2
}
