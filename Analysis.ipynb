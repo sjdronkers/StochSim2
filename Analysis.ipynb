{
 "cells": [
  {
   "cell_type": "markdown",
   "metadata": {},
   "source": [
    "# Stochastic Simulation Assignment 2\n",
    "- Dennis Curti (14526263)\n",
    "- Sjoerd Dronkers (13420607)"
   ]
  },
  {
   "cell_type": "code",
   "execution_count": 2,
   "metadata": {},
   "outputs": [],
   "source": [
    "import matplotlib.pyplot as plt\n",
    "import numpy as np\n",
    "import simpy as sim\n",
    "import scipy.stats as sp"
   ]
  },
  {
   "cell_type": "markdown",
   "metadata": {},
   "source": [
    "## General Functions"
   ]
  },
  {
   "cell_type": "code",
   "execution_count": 3,
   "metadata": {},
   "outputs": [],
   "source": [
    "def confidence_interval(mean, sem):\n",
    "    \"\"\"\n",
    "    Compute the 95% confidence interval.\n",
    "    \"\"\"\n",
    "    z = 1.96\n",
    "    return [mean - z * sem, mean + z * sem]"
   ]
  },
  {
   "cell_type": "code",
   "execution_count": 4,
   "metadata": {},
   "outputs": [],
   "source": [
    "def customer(env, servers, name, service_rate):\n",
    "    \"\"\"\n",
    "    Function to act as a customer.\n",
    "    \"\"\"\n",
    "\n",
    "    arrival = env.now\n",
    "\n",
    "    with servers.server.request() as request:\n",
    "        yield request\n",
    "\n",
    "        # Process the customer through the server.\n",
    "        yield env.process(servers.processing(service_rate))\n",
    "        leave_time = env.now\n",
    "\n",
    "        # Store waiting time spent in the queue.\n",
    "        servers.waiting_times.append(leave_time - arrival - servers.service_times[-1])"
   ]
  },
  {
   "cell_type": "code",
   "execution_count": 5,
   "metadata": {},
   "outputs": [],
   "source": [
    "def setup(env, servers, n, no_customers, service_time, arrival_rate):\n",
    "    \"\"\"\n",
    "    Main function to run the system.\n",
    "    \"\"\"\n",
    "\n",
    "    # Go through the number of customers to be served.\n",
    "    for i in range(no_customers):\n",
    "        env.process(customer(env, servers, f'Person {i}', service_time))\n",
    "        yield env.timeout(np.random.exponential(arrival_rate))"
   ]
  },
  {
   "cell_type": "markdown",
   "metadata": {},
   "source": [
    "## Question 2"
   ]
  },
  {
   "cell_type": "code",
   "execution_count": 6,
   "metadata": {},
   "outputs": [],
   "source": [
    "class Servers(object):\n",
    "    \"\"\"\n",
    "    Class to simulate behaviour of the servers. It processes the customers for\n",
    "    the pre determined service time and tracks this time.\n",
    "    \"\"\"\n",
    "\n",
    "    def __init__(self, env, n, service_time):\n",
    "        \"\"\"\n",
    "        Initialize Server object.\n",
    "        self.waiting_times keeps track of the time spend in the queue.\n",
    "        self.service_times tracks the time spend in the serves.\n",
    "        \"\"\"\n",
    "\n",
    "        self.env = env\n",
    "        self.server = sim.Resource(env, n)\n",
    "        self.waiting_times = list()\n",
    "        self.service_times = list()\n",
    "\n",
    "    def processing(self, service_rate):\n",
    "        \"\"\"\n",
    "        Process a customer for the determined service_time and store this time\n",
    "        spent in self.service_times.\n",
    "        \"\"\"\n",
    "\n",
    "        self.service_times.append(np.random.exponential(service_rate))\n",
    "        yield self.env.timeout(self.service_times[-1])\n"
   ]
  },
  {
   "cell_type": "code",
   "execution_count": 7,
   "metadata": {},
   "outputs": [],
   "source": [
    "def simulation(n, no_customers, service_time, arrival_rate, run_time) -> list:\n",
    "    env = sim.Environment()\n",
    "    servers = Servers(env, n, service_time)\n",
    "    env.process(setup(env, servers, n, no_customers, service_time, arrival_rate))\n",
    "    env.run(until=run_time)\n",
    "    return servers.waiting_times, servers.service_times"
   ]
  },
  {
   "cell_type": "code",
   "execution_count": 117,
   "metadata": {},
   "outputs": [],
   "source": [
    "# Check if it works for simple cases (Calculated by hand).\n",
    "# Does not work anymore after switching from deterministic to memoryless\n",
    "# assert simulation(1, 2, 10, 5, 1000)[0][1] == 5\n",
    "# assert simulation(2, 2, 10, 5, 1000)[0][1] == 0\n",
    "# assert simulation(2, 3, 10, 3, 1000)[0][2] == 4"
   ]
  },
  {
   "cell_type": "markdown",
   "metadata": {},
   "source": [
    "#### Run for rho=0.9"
   ]
  },
  {
   "cell_type": "code",
   "execution_count": 8,
   "metadata": {},
   "outputs": [],
   "source": [
    "# Base parameters for rho=0.9\n",
    "no_customers = 1000\n",
    "service_rate = 0.9\n",
    "arrival_rate = 1\n",
    "total_time = 100000\n",
    "\n",
    "# Simulation parameters\n",
    "no_simulations = 1000\n",
    "n = [1, 2, 4]"
   ]
  },
  {
   "cell_type": "code",
   "execution_count": 9,
   "metadata": {},
   "outputs": [
    {
     "name": "stdout",
     "output_type": "stream",
     "text": [
      "Simulations for 1 servers done.\n",
      "Simulations for 2 servers done.\n",
      "Simulations for 4 servers done.\n"
     ]
    }
   ],
   "source": [
    "means_waiting = list()\n",
    "stdev_waiting = list()\n",
    "\n",
    "# Go through different number of servers.\n",
    "for i in n:\n",
    "    waiting = list()\n",
    "\n",
    "    # Go through the number of simulationes needed.\n",
    "    for j in range(no_simulations):\n",
    "        simu = simulation(i, no_customers, service_rate, arrival_rate, total_time)\n",
    "        waiting.append(np.mean(simu[0]))\n",
    "\n",
    "    # Store the results for each n.\n",
    "    means_waiting.append(np.mean(waiting))\n",
    "    stdev_waiting.append(sp.sem(waiting))\n",
    "\n",
    "    print(f'Simulations for {i} servers done.')"
   ]
  },
  {
   "cell_type": "code",
   "execution_count": 11,
   "metadata": {},
   "outputs": [
    {
     "data": {
      "text/plain": [
       "[7.353925370901778, 0.37426647273164165, 0.22514280567013675]"
      ]
     },
     "execution_count": 11,
     "metadata": {},
     "output_type": "execute_result"
    }
   ],
   "source": [
    "means_waiting"
   ]
  },
  {
   "cell_type": "code",
   "execution_count": 12,
   "metadata": {},
   "outputs": [
    {
     "data": {
      "text/plain": [
       "[0.1314355569160485, 0.0016552541621006962, 0.0007752706990700006]"
      ]
     },
     "execution_count": 12,
     "metadata": {},
     "output_type": "execute_result"
    }
   ],
   "source": [
    "stdev_waiting"
   ]
  },
  {
   "cell_type": "code",
   "execution_count": 19,
   "metadata": {},
   "outputs": [],
   "source": [
    "# Compute the 95% confidence intervals\n",
    "intervals = list()\n",
    "for i in range(len(means_waiting)):\n",
    "    intervals.append(confidence_interval(means_waiting[i], stdev_waiting[i]))"
   ]
  },
  {
   "cell_type": "code",
   "execution_count": 20,
   "metadata": {},
   "outputs": [
    {
     "data": {
      "text/plain": [
       "[[7.096311679346323, 7.611539062457233],\n",
       " [0.3710221745739243, 0.377510770889359],\n",
       " [0.22362327509995955, 0.22666233624031396]]"
      ]
     },
     "execution_count": 20,
     "metadata": {},
     "output_type": "execute_result"
    }
   ],
   "source": [
    "intervals"
   ]
  },
  {
   "cell_type": "markdown",
   "metadata": {},
   "source": [
    "#### Run for rho=0.99"
   ]
  },
  {
   "cell_type": "code",
   "execution_count": 13,
   "metadata": {},
   "outputs": [],
   "source": [
    "# Base parameters for rho=0.99\n",
    "no_customers = 1000\n",
    "service_rate = 0.99\n",
    "arrival_rate = 1\n",
    "total_time = 100000\n",
    "\n",
    "# Simulation parameters\n",
    "no_simulations = 1000\n",
    "n = [1, 2, 4]"
   ]
  },
  {
   "cell_type": "code",
   "execution_count": 14,
   "metadata": {},
   "outputs": [
    {
     "name": "stdout",
     "output_type": "stream",
     "text": [
      "Simulations for 1 servers done.\n",
      "Simulations for 2 servers done.\n",
      "Simulations for 4 servers done.\n"
     ]
    }
   ],
   "source": [
    "means_waiting_rho = list()\n",
    "stdev_waiting_rho = list()\n",
    "\n",
    "# Go through different number of servers.\n",
    "for i in n:\n",
    "    waiting = list()\n",
    "\n",
    "    # Go through the number of simulationes needed.\n",
    "    for j in range(no_simulations):\n",
    "        simu = simulation(i, no_customers, service_rate, arrival_rate, total_time)\n",
    "        waiting.append(np.mean(simu[0]))\n",
    "\n",
    "    # Store the results for each n.\n",
    "    means_waiting_rho.append(np.mean(waiting))\n",
    "    stdev_waiting_rho.append(sp.sem(waiting))\n",
    "\n",
    "    print(f'Simulations for {i} servers done.')"
   ]
  },
  {
   "cell_type": "code",
   "execution_count": 16,
   "metadata": {},
   "outputs": [
    {
     "data": {
      "text/plain": [
       "Text(0.5, 1.0, 'Average waiting time for different number of servers')"
      ]
     },
     "execution_count": 16,
     "metadata": {},
     "output_type": "execute_result"
    },
    {
     "data": {
      "image/png": "[encoded data removed]",
      "text/plain": [
       "<Figure size 640x480 with 1 Axes>"
      ]
     },
     "metadata": {},
     "output_type": "display_data"
    }
   ],
   "source": [
    "plt.errorbar(n, means_waiting, yerr=stdev_waiting, fmt='o', capsize=5, label='rho = 0.9')\n",
    "plt.errorbar(n, means_waiting_rho, yerr=stdev_waiting_rho, fmt='o', capsize=5, label='rho = 0.99')\n",
    "plt.legend()\n",
    "plt.xlabel('Number of Servers')\n",
    "plt.ylabel('Waiting Time')\n",
    "plt.title('Average waiting time for different number of servers')"
   ]
  },
  {
   "cell_type": "code",
   "execution_count": 17,
   "metadata": {},
   "outputs": [
    {
     "data": {
      "text/plain": [
       "[20.053603371250713, 0.4703257897217494, 0.2498344545244384]"
      ]
     },
     "execution_count": 17,
     "metadata": {},
     "output_type": "execute_result"
    }
   ],
   "source": [
    "means_waiting_rho"
   ]
  },
  {
   "cell_type": "code",
   "execution_count": 18,
   "metadata": {},
   "outputs": [
    {
     "data": {
      "text/plain": [
       "[0.38442029207616657, 0.0021109772526680336, 0.0008903453478518832]"
      ]
     },
     "execution_count": 18,
     "metadata": {},
     "output_type": "execute_result"
    }
   ],
   "source": [
    "stdev_waiting_rho"
   ]
  },
  {
   "cell_type": "code",
   "execution_count": 21,
   "metadata": {},
   "outputs": [
    {
     "name": "stdout",
     "output_type": "stream",
     "text": [
      "[[19.300139598781428, 20.807067143719998], [0.46618827430652005, 0.4744633051369787], [0.2480893776426487, 0.2515795314062281]]\n"
     ]
    }
   ],
   "source": [
    "# Compute the 95% confidence intervals\n",
    "intervals = list()\n",
    "for i in range(len(means_waiting)):\n",
    "    intervals.append(confidence_interval(means_waiting_rho[i], stdev_waiting_rho[i]))\n",
    "print(intervals)"
   ]
  },
  {
   "cell_type": "markdown",
   "metadata": {},
   "source": [
    "## Question 3"
   ]
  },
  {
   "cell_type": "code",
   "execution_count": 22,
   "metadata": {},
   "outputs": [],
   "source": [
    "class Priority_Servers(object):\n",
    "    \"\"\"\n",
    "    Class to simulate behaviour of the servers that prioritze lower values.\n",
    "    \"\"\"\n",
    "\n",
    "    def __init__(self, env, n, service_time):\n",
    "        \"\"\"\n",
    "        Initialize Server object.\n",
    "        \"\"\"\n",
    "\n",
    "        self.env = env\n",
    "        self.server = sim.PriorityResource(env, n)\n",
    "        self.waiting_times = list()\n",
    "        self.service_times = list()\n",
    "\n",
    "    def processing(self, service_time):\n",
    "        self.service_times.append(np.random.exponential(service_rate))\n",
    "        yield self.env.timeout(self.service_times[-1])"
   ]
  },
  {
   "cell_type": "code",
   "execution_count": 23,
   "metadata": {},
   "outputs": [],
   "source": [
    "def simulation_priority(n, no_customers, service_time, arrival_rate, run_time) -> list:\n",
    "    env = sim.Environment()\n",
    "    servers = Priority_Servers(env, n, service_time)\n",
    "    env.process(setup(env, servers, n, no_customers, service_time, arrival_rate))\n",
    "    env.run(until=run_time)\n",
    "    return servers.waiting_times, servers.service_times"
   ]
  },
  {
   "cell_type": "markdown",
   "metadata": {},
   "source": [
    "#### Run priority queue for rho 0.9"
   ]
  },
  {
   "cell_type": "code",
   "execution_count": 24,
   "metadata": {},
   "outputs": [],
   "source": [
    "# Base parameters for rho=0.9\n",
    "no_customers = 1000\n",
    "service_rate = 0.90\n",
    "arrival_rate = 1\n",
    "total_time = 100000\n",
    "\n",
    "# Simulation parameters\n",
    "no_simulations = 1000\n",
    "n = [1, 2, 4]"
   ]
  },
  {
   "cell_type": "code",
   "execution_count": 25,
   "metadata": {},
   "outputs": [
    {
     "name": "stdout",
     "output_type": "stream",
     "text": [
      "Simulations for 1 servers done.\n",
      "Simulations for 2 servers done.\n",
      "Simulations for 4 servers done.\n"
     ]
    }
   ],
   "source": [
    "means_waiting = list()\n",
    "stdev_waiting = list()\n",
    "\n",
    "# Go through different number of servers.\n",
    "for i in n:\n",
    "    waiting = list()\n",
    "    service = list()\n",
    "\n",
    "    # Go through the number of simulationes needed.\n",
    "    for j in range(no_simulations):\n",
    "        simu = simulation_priority(i, no_customers, service_rate, arrival_rate, total_time)\n",
    "        waiting.append(np.mean(simu[0]))\n",
    "\n",
    "    # Store the results for each n.\n",
    "    means_waiting.append(np.mean(waiting))\n",
    "    stdev_waiting.append(sp.sem(waiting))\n",
    "\n",
    "    print(f'Simulations for {i} servers done.')"
   ]
  },
  {
   "cell_type": "code",
   "execution_count": 26,
   "metadata": {},
   "outputs": [
    {
     "data": {
      "text/plain": [
       "[7.342210091483734, 0.37666170877021965, 0.2254833710566472]"
      ]
     },
     "execution_count": 26,
     "metadata": {},
     "output_type": "execute_result"
    }
   ],
   "source": [
    "means_waiting"
   ]
  },
  {
   "cell_type": "code",
   "execution_count": 27,
   "metadata": {},
   "outputs": [
    {
     "data": {
      "text/plain": [
       "[0.12186408258270526, 0.0015978754837997265, 0.0007635675277581048]"
      ]
     },
     "execution_count": 27,
     "metadata": {},
     "output_type": "execute_result"
    }
   ],
   "source": [
    "stdev_waiting"
   ]
  },
  {
   "cell_type": "code",
   "execution_count": 33,
   "metadata": {},
   "outputs": [
    {
     "name": "stdout",
     "output_type": "stream",
     "text": [
      "[[7.103356489621632, 7.581063693345836], [0.3735298728219722, 0.3797935447184671], [0.22398677870224132, 0.2269799634110531]]\n"
     ]
    }
   ],
   "source": [
    "# Compute the 95% confidence intervals\n",
    "intervals = list()\n",
    "for i in range(len(means_waiting)):\n",
    "    intervals.append(confidence_interval(means_waiting[i], stdev_waiting[i]))\n",
    "print(intervals)"
   ]
  },
  {
   "cell_type": "markdown",
   "metadata": {},
   "source": [
    "#### Run priority queue for rho 0.99"
   ]
  },
  {
   "cell_type": "code",
   "execution_count": 36,
   "metadata": {},
   "outputs": [],
   "source": [
    "# Base parameters for rho=0.99\n",
    "no_customers = 1000\n",
    "service_rate = 0.99\n",
    "arrival_rate = 1\n",
    "total_time = 100000\n",
    "\n",
    "# Simulation parameters\n",
    "no_simulations = 1000\n",
    "n = [1, 2, 4]"
   ]
  },
  {
   "cell_type": "code",
   "execution_count": 37,
   "metadata": {},
   "outputs": [
    {
     "name": "stdout",
     "output_type": "stream",
     "text": [
      "Simulations for 1 servers done.\n",
      "Simulations for 2 servers done.\n",
      "Simulations for 4 servers done.\n"
     ]
    }
   ],
   "source": [
    "means_waiting_rho = list()\n",
    "stdev_waiting_rho = list()\n",
    "\n",
    "# Go through different number of servers.\n",
    "for i in n:\n",
    "    waiting = list()\n",
    "\n",
    "    # Go through the number of simulationes needed.\n",
    "    for j in range(no_simulations):\n",
    "        simu = simulation_priority(i, no_customers, service_rate, arrival_rate, total_time)\n",
    "        waiting.append(np.mean(simu[0]))\n",
    "\n",
    "    # Store the results for each n.\n",
    "    means_waiting_rho.append(np.mean(waiting))\n",
    "    stdev_waiting_rho.append(sp.sem(waiting))\n",
    "\n",
    "    print(f'Simulations for {i} servers done.')"
   ]
  },
  {
   "cell_type": "code",
   "execution_count": 38,
   "metadata": {},
   "outputs": [
    {
     "data": {
      "text/plain": [
       "Text(0.5, 1.0, 'Average waiting time for different number of servers')"
      ]
     },
     "execution_count": 38,
     "metadata": {},
     "output_type": "execute_result"
    },
    {
     "data": {
      "image/png": "[encoded data removed]",
      "text/plain": [
       "<Figure size 640x480 with 1 Axes>"
      ]
     },
     "metadata": {},
     "output_type": "display_data"
    }
   ],
   "source": [
    "plt.errorbar(n, means_waiting, yerr=stdev_waiting, fmt='o', capsize=5, label='rho = 0.9')\n",
    "plt.errorbar(n, means_waiting_rho, yerr=stdev_waiting_rho, fmt='o', capsize=5, label='rho = 0.99')\n",
    "plt.legend()\n",
    "plt.xlabel('Number of Servers')\n",
    "plt.ylabel('Waiting Time')\n",
    "plt.title('Average waiting time for different number of servers')"
   ]
  },
  {
   "cell_type": "code",
   "execution_count": 39,
   "metadata": {},
   "outputs": [
    {
     "data": {
      "text/plain": [
       "[20.439480012559386, 0.47392196608899234, 0.24813487855151425]"
      ]
     },
     "execution_count": 39,
     "metadata": {},
     "output_type": "execute_result"
    }
   ],
   "source": [
    "means_waiting_rho"
   ]
  },
  {
   "cell_type": "code",
   "execution_count": 40,
   "metadata": {},
   "outputs": [
    {
     "data": {
      "text/plain": [
       "[0.38108719297191296, 0.002179922957114493, 0.0008633745188588471]"
      ]
     },
     "execution_count": 40,
     "metadata": {},
     "output_type": "execute_result"
    }
   ],
   "source": [
    "stdev_waiting_rho"
   ]
  },
  {
   "cell_type": "code",
   "execution_count": 34,
   "metadata": {},
   "outputs": [
    {
     "name": "stdout",
     "output_type": "stream",
     "text": [
      "[[19.50477085597101, 21.018906242830134], [0.46541221399393645, 0.4739291336571633], [0.24973319059521681, 0.2532268711812454]]\n"
     ]
    }
   ],
   "source": [
    "# Compute the 95% confidence intervals\n",
    "intervals = list()\n",
    "for i in range(len(means_waiting)):\n",
    "    intervals.append(confidence_interval(means_waiting_rho[i], stdev_waiting_rho[i]))\n",
    "print(intervals)"
   ]
  },
  {
   "cell_type": "markdown",
   "metadata": {},
   "source": [
    "## Question 4"
   ]
  },
  {
   "cell_type": "markdown",
   "metadata": {},
   "source": [
    "#### Simulations for M/D/1 and M/D/n queues, rho=0.90"
   ]
  },
  {
   "cell_type": "code",
   "execution_count": 193,
   "metadata": {},
   "outputs": [],
   "source": [
    "class MD_Servers(object):\n",
    "    \"\"\"\n",
    "    Class to simulate behaviour of the servers that prioritze lower values.\n",
    "    \"\"\"\n",
    "\n",
    "    def __init__(self, env, n, service_time):\n",
    "        \"\"\"\n",
    "        Initialize Server object.\n",
    "        \"\"\"\n",
    "\n",
    "        self.env = env\n",
    "        self.server = sim.Resource(env, n)\n",
    "        self.service_time = service_time\n",
    "        self.waiting_times = list()\n",
    "        self.service_times = list()\n",
    "\n",
    "    def processing(self, service_time):\n",
    "        self.service_times.append(service_time)\n",
    "        yield self.env.timeout(self.service_time)"
   ]
  },
  {
   "cell_type": "code",
   "execution_count": 194,
   "metadata": {},
   "outputs": [],
   "source": [
    "# Base parameters for rho=0.9\n",
    "no_customers = 1000\n",
    "service_rate = 0.90\n",
    "arrival_rate = 1\n",
    "total_time = 100000\n",
    "\n",
    "# Simulation parameters\n",
    "no_simulations = 100\n",
    "n = [1, 2, 4]"
   ]
  },
  {
   "cell_type": "code",
   "execution_count": 195,
   "metadata": {},
   "outputs": [
    {
     "name": "stdout",
     "output_type": "stream",
     "text": [
      "Simulations for 1 servers done.\n",
      "Simulations for 2 servers done.\n",
      "Simulations for 4 servers done.\n"
     ]
    }
   ],
   "source": [
    "means_waiting = list()\n",
    "stdev_waiting = list()\n",
    "\n",
    "# Go through different number of servers.\n",
    "for i in n:\n",
    "    waiting = list()\n",
    "    service = list()\n",
    "\n",
    "    # Go through the number of simulationes needed.\n",
    "    for j in range(no_simulations):\n",
    "        simu = simulation_priority(i, no_customers, service_rate, arrival_rate, total_time)\n",
    "        waiting.append(np.mean(simu[0]))\n",
    "\n",
    "    # Store the results for each n.\n",
    "    means_waiting.append(np.mean(waiting))\n",
    "    stdev_waiting.append(sp.sem(waiting))\n",
    "\n",
    "    print(f'Simulations for {i} servers done.')"
   ]
  },
  {
   "cell_type": "code",
   "execution_count": 196,
   "metadata": {},
   "outputs": [
    {
     "data": {
      "text/plain": [
       "Text(0.5, 1.0, 'Average waiting time for different number of servers')"
      ]
     },
     "execution_count": 196,
     "metadata": {},
     "output_type": "execute_result"
    },
    {
     "data": {
      "image/png": "[encoded data removed]",
      "text/plain": [
       "<Figure size 640x480 with 1 Axes>"
      ]
     },
     "metadata": {},
     "output_type": "display_data"
    }
   ],
   "source": [
    "plt.errorbar(n, means_waiting, yerr=stdev_waiting, fmt='o', capsize=5, label='Data with Error Bars')\n",
    "plt.xlabel('Number of Servers')\n",
    "plt.ylabel('Waiting Time')\n",
    "plt.title('Average waiting time for different number of servers')"
   ]
  },
  {
   "cell_type": "code",
   "execution_count": 197,
   "metadata": {},
   "outputs": [
    {
     "data": {
      "text/plain": [
       "[6.795070283590124, 0.3788124520215056, 0.22568235855603]"
      ]
     },
     "execution_count": 197,
     "metadata": {},
     "output_type": "execute_result"
    }
   ],
   "source": [
    "means_waiting"
   ]
  },
  {
   "cell_type": "code",
   "execution_count": 198,
   "metadata": {},
   "outputs": [
    {
     "data": {
      "text/plain": [
       "[3.050618890706604, 0.04537935978082417, 0.023936580014298846]"
      ]
     },
     "execution_count": 198,
     "metadata": {},
     "output_type": "execute_result"
    }
   ],
   "source": [
    "stdev_waiting"
   ]
  },
  {
   "cell_type": "markdown",
   "metadata": {},
   "source": [
    "#### Simulations for long-tail distrbution queues"
   ]
  },
  {
   "cell_type": "code",
   "execution_count": null,
   "metadata": {},
   "outputs": [],
   "source": [
    "class Long_Tail_Servers(object):\n",
    "    \"\"\"\n",
    "    Class to simulate behaviour of the servers where 25% of the jobs have a longer\n",
    "    service time. In other words, a long-tail distribution.\n",
    "    \"\"\"\n",
    "\n",
    "    def __init__(self, env, n, service_time):\n",
    "        \"\"\"\n",
    "        Initialize Server object.\n",
    "        \"\"\"\n",
    "\n",
    "        self.env = env\n",
    "        self.server = sim.Resource(env, n)\n",
    "        self.waiting_times = list()\n",
    "        self.service_times = list()\n",
    "\n",
    "    def processing(self, service_time):\n",
    "        \"\"\"\n",
    "        Change code here\n",
    "        \"\"\"\n",
    "        self.service_times.append(service_time)\n",
    "        yield self.env.timeout(self.service_time)"
   ]
  }
 ],
 "metadata": {
  "kernelspec": {
   "display_name": "Python 3",
   "language": "python",
   "name": "python3"
  },
  "language_info": {
   "codemirror_mode": {
    "name": "ipython",
    "version": 3
   },
   "file_extension": ".py",
   "mimetype": "text/x-python",
   "name": "python",
   "nbconvert_exporter": "python",
   "pygments_lexer": "ipython3",
   "version": "3.9.9"
  }
 },
 "nbformat": 4,
 "nbformat_minor": 2
}
